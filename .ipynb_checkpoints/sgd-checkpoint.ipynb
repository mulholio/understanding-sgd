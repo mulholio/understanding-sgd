{
 "cells": [
  {
   "cell_type": "code",
   "execution_count": 1,
   "metadata": {},
   "outputs": [
    {
     "name": "stdout",
     "output_type": "stream",
     "text": [
      "Requirement already satisfied: torch in ./venv/lib/python3.8/site-packages (1.7.0)\n",
      "Requirement already satisfied: future in ./venv/lib/python3.8/site-packages (from torch) (0.18.2)\n",
      "Requirement already satisfied: dataclasses in ./venv/lib/python3.8/site-packages (from torch) (0.6)\n",
      "Requirement already satisfied: typing-extensions in ./venv/lib/python3.8/site-packages (from torch) (3.7.4.3)\n",
      "Requirement already satisfied: numpy in ./venv/lib/python3.8/site-packages (from torch) (1.19.4)\n",
      "Requirement already satisfied: fastai in ./venv/lib/python3.8/site-packages (2.1.5)\n",
      "Requirement already satisfied: fastcore>=1.3.0 in ./venv/lib/python3.8/site-packages (from fastai) (1.3.5)\n",
      "Requirement already satisfied: spacy in ./venv/lib/python3.8/site-packages (from fastai) (2.3.2)\n",
      "Requirement already satisfied: pandas in ./venv/lib/python3.8/site-packages (from fastai) (1.1.4)\n",
      "Requirement already satisfied: packaging in ./venv/lib/python3.8/site-packages (from fastai) (20.4)\n",
      "Requirement already satisfied: matplotlib in ./venv/lib/python3.8/site-packages (from fastai) (3.3.3)\n",
      "Requirement already satisfied: scipy in ./venv/lib/python3.8/site-packages (from fastai) (1.5.4)\n",
      "Requirement already satisfied: torchvision>=0.8 in ./venv/lib/python3.8/site-packages (from fastai) (0.8.1)\n",
      "Requirement already satisfied: torch>=1.7.0 in ./venv/lib/python3.8/site-packages (from fastai) (1.7.0)\n",
      "Requirement already satisfied: pyyaml in ./venv/lib/python3.8/site-packages (from fastai) (5.3.1)\n",
      "Requirement already satisfied: fastprogress>=0.2.4 in ./venv/lib/python3.8/site-packages (from fastai) (1.0.0)\n",
      "Requirement already satisfied: requests in ./venv/lib/python3.8/site-packages (from fastai) (2.25.0)\n",
      "Requirement already satisfied: scikit-learn in ./venv/lib/python3.8/site-packages (from fastai) (0.23.2)\n",
      "Requirement already satisfied: pillow in ./venv/lib/python3.8/site-packages (from fastai) (8.0.1)\n",
      "Requirement already satisfied: pip in ./venv/lib/python3.8/site-packages (from fastai) (20.2.4)\n",
      "Requirement already satisfied: blis<0.5.0,>=0.4.0 in ./venv/lib/python3.8/site-packages (from spacy->fastai) (0.4.1)\n",
      "Requirement already satisfied: srsly<1.1.0,>=1.0.2 in ./venv/lib/python3.8/site-packages (from spacy->fastai) (1.0.4)\n",
      "Requirement already satisfied: thinc==7.4.1 in ./venv/lib/python3.8/site-packages (from spacy->fastai) (7.4.1)\n",
      "Requirement already satisfied: tqdm<5.0.0,>=4.38.0 in ./venv/lib/python3.8/site-packages (from spacy->fastai) (4.51.0)\n",
      "Requirement already satisfied: plac<1.2.0,>=0.9.6 in ./venv/lib/python3.8/site-packages (from spacy->fastai) (1.1.3)\n",
      "Requirement already satisfied: setuptools in ./venv/lib/python3.8/site-packages (from spacy->fastai) (50.3.2)\n",
      "Requirement already satisfied: numpy>=1.15.0 in ./venv/lib/python3.8/site-packages (from spacy->fastai) (1.19.4)\n",
      "Requirement already satisfied: preshed<3.1.0,>=3.0.2 in ./venv/lib/python3.8/site-packages (from spacy->fastai) (3.0.4)\n",
      "Requirement already satisfied: wasabi<1.1.0,>=0.4.0 in ./venv/lib/python3.8/site-packages (from spacy->fastai) (0.8.0)\n",
      "Requirement already satisfied: murmurhash<1.1.0,>=0.28.0 in ./venv/lib/python3.8/site-packages (from spacy->fastai) (1.0.4)\n",
      "Requirement already satisfied: cymem<2.1.0,>=2.0.2 in ./venv/lib/python3.8/site-packages (from spacy->fastai) (2.0.4)\n",
      "Requirement already satisfied: catalogue<1.1.0,>=0.0.7 in ./venv/lib/python3.8/site-packages (from spacy->fastai) (1.0.0)\n",
      "Requirement already satisfied: pytz>=2017.2 in ./venv/lib/python3.8/site-packages (from pandas->fastai) (2020.4)\n",
      "Requirement already satisfied: python-dateutil>=2.7.3 in ./venv/lib/python3.8/site-packages (from pandas->fastai) (2.8.1)\n",
      "Requirement already satisfied: six in ./venv/lib/python3.8/site-packages (from packaging->fastai) (1.15.0)\n",
      "Requirement already satisfied: pyparsing>=2.0.2 in ./venv/lib/python3.8/site-packages (from packaging->fastai) (2.4.7)\n",
      "Requirement already satisfied: cycler>=0.10 in ./venv/lib/python3.8/site-packages (from matplotlib->fastai) (0.10.0)\n",
      "Requirement already satisfied: kiwisolver>=1.0.1 in ./venv/lib/python3.8/site-packages (from matplotlib->fastai) (1.3.1)\n",
      "Requirement already satisfied: typing-extensions in ./venv/lib/python3.8/site-packages (from torch>=1.7.0->fastai) (3.7.4.3)\n",
      "Requirement already satisfied: dataclasses in ./venv/lib/python3.8/site-packages (from torch>=1.7.0->fastai) (0.6)\n",
      "Requirement already satisfied: future in ./venv/lib/python3.8/site-packages (from torch>=1.7.0->fastai) (0.18.2)\n",
      "Requirement already satisfied: certifi>=2017.4.17 in ./venv/lib/python3.8/site-packages (from requests->fastai) (2020.11.8)\n",
      "Requirement already satisfied: urllib3<1.27,>=1.21.1 in ./venv/lib/python3.8/site-packages (from requests->fastai) (1.26.2)\n",
      "Requirement already satisfied: idna<3,>=2.5 in ./venv/lib/python3.8/site-packages (from requests->fastai) (2.10)\n",
      "Requirement already satisfied: chardet<4,>=3.0.2 in ./venv/lib/python3.8/site-packages (from requests->fastai) (3.0.4)\n",
      "Requirement already satisfied: threadpoolctl>=2.0.0 in ./venv/lib/python3.8/site-packages (from scikit-learn->fastai) (2.1.0)\n",
      "Requirement already satisfied: joblib>=0.11 in ./venv/lib/python3.8/site-packages (from scikit-learn->fastai) (0.17.0)\n"
     ]
    }
   ],
   "source": [
    "import sys\n",
    "!{sys.executable} -m pip install torch\n",
    "!{sys.executable} -m pip install fastai"
   ]
  },
  {
   "cell_type": "code",
   "execution_count": 2,
   "metadata": {},
   "outputs": [],
   "source": [
    "from fastai.basics import torch, plt, to_np, mse"
   ]
  },
  {
   "cell_type": "markdown",
   "metadata": {},
   "source": [
    "# Stoachastic Gradient Descent\n",
    "\n",
    "This notebook is a place to play around with SGD to fully get to grips with it."
   ]
  },
  {
   "cell_type": "markdown",
   "metadata": {},
   "source": [
    "## Fake Plot"
   ]
  },
  {
   "cell_type": "code",
   "execution_count": 3,
   "metadata": {
    "scrolled": true
   },
   "outputs": [
    {
     "data": {
      "text/plain": [
       "<matplotlib.collections.PathCollection at 0x7ff71036b0d0>"
      ]
     },
     "execution_count": 3,
     "metadata": {},
     "output_type": "execute_result"
    },
    {
     "data": {
      "image/png": "[encoded data removed]",
      "text/plain": [
       "<Figure size 432x288 with 1 Axes>"
      ]
     },
     "metadata": {
      "needs_background": "light"
     },
     "output_type": "display_data"
    }
   ],
   "source": [
    "x = torch.arange(0, 20).float()\n",
    "y = torch.randn(20)*2 + 5*x**2 + 5\n",
    "\n",
    "plt.scatter(x, y)"
   ]
  },
  {
   "cell_type": "code",
   "execution_count": 4,
   "metadata": {},
   "outputs": [],
   "source": [
    "def f(x, params):\n",
    "    a, b, c = params # destructure the weights\n",
    "    return a*(x**2) + c"
   ]
  },
  {
   "cell_type": "code",
   "execution_count": 5,
   "metadata": {},
   "outputs": [
    {
     "data": {
      "text/plain": [
       "tensor([0.9643, 0.6022, 1.0517], requires_grad=True)"
      ]
     },
     "execution_count": 5,
     "metadata": {},
     "output_type": "execute_result"
    }
   ],
   "source": [
    "# initialise weights\n",
    "w = torch.randn(3).requires_grad_(); w"
   ]
  },
  {
   "cell_type": "code",
   "execution_count": 6,
   "metadata": {},
   "outputs": [],
   "source": [
    "def show_predictions(pred):\n",
    "    ax = plt.subplots()[1]\n",
    "    ax.set_ylim(-50, 200)\n",
    "    ax.scatter(x, y)\n",
    "    ax.scatter(x, to_np(pred), color='red')"
   ]
  },
  {
   "cell_type": "code",
   "execution_count": 7,
   "metadata": {},
   "outputs": [],
   "source": [
    "predictions = f(x, w)"
   ]
  },
  {
   "cell_type": "code",
   "execution_count": 8,
   "metadata": {},
   "outputs": [],
   "source": [
    "LR = 1e-5\n",
    "\n",
    "def step(weights):\n",
    "    predictions = f(x, weights)\n",
    "    loss = mse(predictions, y)\n",
    "    loss.backward()\n",
    "    weights.data -= LR * weights.grad.data\n",
    "    weights.grad = None\n",
    "    \n",
    "    print(loss.item())\n",
    "    return predictions"
   ]
  },
  {
   "cell_type": "code",
   "execution_count": 9,
   "metadata": {},
   "outputs": [
    {
     "data": {
      "image/png": "[encoded data removed]",
      "text/plain": [
       "<Figure size 432x288 with 1 Axes>"
      ]
     },
     "metadata": {
      "needs_background": "light"
     },
     "output_type": "display_data"
    }
   ],
   "source": [
    "show_predictions(predictions)"
   ]
  },
  {
   "cell_type": "code",
   "execution_count": 10,
   "metadata": {},
   "outputs": [
    {
     "name": "stdout",
     "output_type": "stream",
     "text": [
      "461942.5\n",
      "88357.484375\n",
      "16908.74609375\n",
      "3244.071044921875\n",
      "630.67626953125\n",
      "130.8592987060547\n",
      "35.26862716674805\n",
      "16.986572265625\n",
      "13.490033149719238\n",
      "12.821179389953613\n"
     ]
    }
   ],
   "source": [
    "for i in range(10): step(w)"
   ]
  },
  {
   "cell_type": "code",
   "execution_count": 11,
   "metadata": {},
   "outputs": [
    {
     "data": {
      "image/png": "[encoded data removed]",
      "text/plain": [
       "<Figure size 432x288 with 1 Axes>"
      ]
     },
     "metadata": {
      "needs_background": "light"
     },
     "output_type": "display_data"
    }
   ],
   "source": [
    "show_predictions(f(x, w))"
   ]
  },
  {
   "cell_type": "code",
   "execution_count": null,
   "metadata": {},
   "outputs": [],
   "source": []
  }
 ],
 "metadata": {
  "kernelspec": {
   "display_name": "Python 3",
   "language": "python",
   "name": "python3"
  },
  "language_info": {
   "codemirror_mode": {
    "name": "ipython",
    "version": 3
   },
   "file_extension": ".py",
   "mimetype": "text/x-python",
   "name": "python",
   "nbconvert_exporter": "python",
   "pygments_lexer": "ipython3",
   "version": "3.8.0"
  }
 },
 "nbformat": 4,
 "nbformat_minor": 4
}
